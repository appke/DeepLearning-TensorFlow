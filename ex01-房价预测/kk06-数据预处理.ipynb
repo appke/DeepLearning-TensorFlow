{
 "cells": [
  {
   "cell_type": "markdown",
   "metadata": {},
   "source": [
    "# 数据预处理 Preprocessing\n",
    "Scaling\n",
    "\n",
    "各自度量衡不同\n",
    "\n",
    "拉起\n",
    "\n",
    "## 标准\n",
    "难以改变偏度\n",
    "\n",
    "\n",
    "## Min-Maxs Scaler 归一化\n",
    "\n",
    "对离散点非常敏感，-> Ro\n",
    "\n",
    "对训练集处理！\n",
    "\n",
    "## Normalize\n",
    "把所有的，拉到1个球里\n",
    "\n",
    "单位环\n",
    "\n",
    "每一个点都是单位向量！\n",
    "\n",
    "任何1个点，距离圆心距离为1\n",
    "\n",
    "余弦相似度\n",
    "\n",
    "相近，考虑之间的夹角\n",
    "\n",
    "谨慎使用，改变了分布"
   ]
  },
  {
   "cell_type": "code",
   "execution_count": 1,
   "metadata": {},
   "outputs": [
    {
     "ename": "SyntaxError",
     "evalue": "invalid syntax (<ipython-input-1-4cf4f10edf52>, line 1)",
     "output_type": "error",
     "traceback": [
      "\u001b[0;36m  File \u001b[0;32m\"<ipython-input-1-4cf4f10edf52>\"\u001b[0;36m, line \u001b[0;32m1\u001b[0m\n\u001b[0;31m    import\u001b[0m\n\u001b[0m           ^\u001b[0m\n\u001b[0;31mSyntaxError\u001b[0m\u001b[0;31m:\u001b[0m invalid syntax\n"
     ]
    }
   ],
   "source": [
    "import "
   ]
  },
  {
   "cell_type": "code",
   "execution_count": null,
   "metadata": {},
   "outputs": [],
   "source": []
  }
 ],
 "metadata": {
  "kernelspec": {
   "display_name": "Python 3",
   "language": "python",
   "name": "python3"
  },
  "language_info": {
   "codemirror_mode": {
    "name": "ipython",
    "version": 3
   },
   "file_extension": ".py",
   "mimetype": "text/x-python",
   "name": "python",
   "nbconvert_exporter": "python",
   "pygments_lexer": "ipython3",
   "version": "3.6.4rc1"
  }
 },
 "nbformat": 4,
 "nbformat_minor": 2
}
