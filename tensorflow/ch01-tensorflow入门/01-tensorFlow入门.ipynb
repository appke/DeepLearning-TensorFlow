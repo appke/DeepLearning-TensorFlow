{
 "cells": [
  {
   "cell_type": "code",
   "execution_count": 2,
   "metadata": {},
   "outputs": [],
   "source": [
    "import tensorflow as tf"
   ]
  },
  {
   "cell_type": "code",
   "execution_count": 4,
   "metadata": {},
   "outputs": [
    {
     "data": {
      "text/plain": [
       "'1.12.0'"
      ]
     },
     "execution_count": 4,
     "metadata": {},
     "output_type": "execute_result"
    }
   ],
   "source": [
    "tf.__version__"
   ]
  },
  {
   "cell_type": "code",
   "execution_count": 3,
   "metadata": {},
   "outputs": [
    {
     "data": {
      "text/plain": [
       "''"
      ]
     },
     "execution_count": 3,
     "metadata": {},
     "output_type": "execute_result"
    }
   ],
   "source": [
    "# 是否存在GPU\n",
    "tf.test.gpu_device_name()"
   ]
  },
  {
   "cell_type": "code",
   "execution_count": 2,
   "metadata": {},
   "outputs": [
    {
     "name": "stdout",
     "output_type": "stream",
     "text": [
      "b'Hello, TensorFlow!'\n"
     ]
    }
   ],
   "source": [
    "# tf.constant创建一个常量\n",
    "hello = tf.constant('Hello, TensorFlow!')\n",
    "# 启动Tensorflow的Session\n",
    "sess = tf.Session()\n",
    "print(sess.run(hello))"
   ]
  },
  {
   "cell_type": "code",
   "execution_count": 3,
   "metadata": {},
   "outputs": [
    {
     "name": "stdout",
     "output_type": "stream",
     "text": [
      "a=2, b=3\n",
      "Addition with constants: 5\n",
      "Multiplication with constants: 6\n"
     ]
    }
   ],
   "source": [
    "a = tf.constant(2)\n",
    "b = tf.constant(3)\n",
    "with tf.Session() as sess:\n",
    "    print(\"a=2, b=3\")\n",
    "    print(\"Addition with constants: %i\" % sess.run(a+b))\n",
    "    print(\"Multiplication with constants: %i\" % sess.run(a*b))"
   ]
  },
  {
   "cell_type": "markdown",
   "metadata": {},
   "source": [
    "## Hello Tensorflow"
   ]
  },
  {
   "cell_type": "code",
   "execution_count": 5,
   "metadata": {},
   "outputs": [
    {
     "name": "stdout",
     "output_type": "stream",
     "text": [
      "b'Hello TensorFlow'\n"
     ]
    }
   ],
   "source": [
    "import tensorflow as tf\n",
    "# 定义常量操作 hello\n",
    "hello = tf.constant(\"Hello TensorFlow\")\n",
    "# 创建1个会话\n",
    "sess = tf.Session()\n",
    "# 执行常量操作 hello 并打印到标准输出\n",
    "print(sess.run(hello))"
   ]
  },
  {
   "cell_type": "markdown",
   "metadata": {},
   "source": [
    "使用的是python3，字符串为bytes类型\n",
    "\n",
    "bytes 数据类型"
   ]
  },
  {
   "cell_type": "markdown",
   "metadata": {},
   "source": [
    "### 这里tf关于AVX2指令集的提示说的是CPU支持AVX，但安装的tf编译时没有加入AVX2指令集的优化，而不是CPU不支持AVX2。在没有GPU的情况下，可以到tf官网下加入了AVX2指令集优化编译过的wheel，能比普通的发布版快一些。\n",
    "\n",
    "谢谢指正，的确如此。\n",
    "\n",
    "这里提到 `AVX2指令集` 的原意是：\n",
    "1. 希望大家了解 CPU 指令集优化方面的知识；\n",
    "2. TensorFlow 目前不再维护 Mac OS X 上对 GPU 的支持，因此需要关注 CPU 设备上的优化；\n",
    "3. TensorFlow pre-built wheel 包是没有开启 AVX2 指令集编译优化的。类似的有 GCP、HDFS等特性的支持，也需要用户通过 bazel 手动编译 TensorFlow 选择是否编译相关特性的代码。（录制时好像忘了提这个，在《深入理解TensorFlow》一书中有专门讲这块）\n",
    "\n",
    "关于 Grant 提到的 wheel：\n",
    "1. wheel 是 Python 的软件打包和发布工具；\n",
    "2. wheel 也是一种 Python 的软件发布标准，用于替代之前的 eggs；\n",
    "3. \".whl\" 文件是符合其发布标准的 Python 软件安装包。\n",
    "\n",
    "因为视频都是一次性集中录制的，可能会有细节没顾及到。欢迎更多同学指正错误，再次感谢。"
   ]
  },
  {
   "cell_type": "code",
   "execution_count": null,
   "metadata": {},
   "outputs": [],
   "source": []
  }
 ],
 "metadata": {
  "kernelspec": {
   "display_name": "Python 3",
   "language": "python",
   "name": "python3"
  },
  "language_info": {
   "codemirror_mode": {
    "name": "ipython",
    "version": 3
   },
   "file_extension": ".py",
   "mimetype": "text/x-python",
   "name": "python",
   "nbconvert_exporter": "python",
   "pygments_lexer": "ipython3",
   "version": "3.6.4rc1"
  }
 },
 "nbformat": 4,
 "nbformat_minor": 2
}
