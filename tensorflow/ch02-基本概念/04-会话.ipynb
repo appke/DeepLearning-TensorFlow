{
 "cells": [
  {
   "cell_type": "code",
   "execution_count": 1,
   "metadata": {},
   "outputs": [
    {
     "name": "stdout",
     "output_type": "stream",
     "text": [
      "6.0\n"
     ]
    }
   ],
   "source": [
    "import tensorflow as tf\n",
    "# 创建数据流图：z = x * y\n",
    "x = tf.placeholder(tf.float32, name='x')\n",
    "y = tf.placeholder(tf.float32, name='y')\n",
    "z = tf.multiply(x, y, name='z')\n",
    "# 创建会话\n",
    "sess = tf.Session()\n",
    "# 向数据节点x和y分别填充浮点数3.0和2.0，并输出结果\n",
    "print(sess.run(z, feed_dict={x:3.0, y:2.0}))\n",
    "'''\n",
    "输出6.0\n",
    "'''"
   ]
  },
  {
   "cell_type": "code",
   "execution_count": 2,
   "metadata": {},
   "outputs": [
    {
     "name": "stdout",
     "output_type": "stream",
     "text": [
      "3.0\n"
     ]
    },
    {
     "data": {
      "text/plain": [
       "'\\n输出6.0\\n'"
      ]
     },
     "execution_count": 2,
     "metadata": {},
     "output_type": "execute_result"
    }
   ],
   "source": [
    "import tensorflow as tf\n",
    "# 创建数据流图： = a + b\n",
    "a = tf.constant(1.0, name='a')\n",
    "b = tf.constant(2.0, name='b')\n",
    "c = tf.add(a, b, name='c')\n",
    "# 创建会话\n",
    "sess = tf.Session()\n",
    "# 估算张量c的值\n",
    "print(sess.run(c))\n",
    "'''\n",
    "输出3.0\n",
    "'''"
   ]
  },
  {
   "cell_type": "code",
   "execution_count": null,
   "metadata": {},
   "outputs": [],
   "source": []
  },
  {
   "cell_type": "code",
   "execution_count": null,
   "metadata": {},
   "outputs": [],
   "source": [
    "import tensorflow as tf\n",
    "# 创建数据流图：y = W * x + b，其中W和b为存储节点，x为数据节点。\n",
    "x = tf.placeholder(tf.float32)\n",
    "W = tf.Variable(1.0)\n",
    "b = tf.Variable(1.0)\n",
    "y = W * x + b\n",
    "with tf.Session() as sess:\n",
    "    tf.global_variables_initializer().run() # Operation.run\n",
    "    fetch = y.eval(feed_dict={x: 3.0})      # Tensor.eval\n",
    "    print(fetch)                            # fetch = 1.0 * 3.0 + 1.0"
   ]
  }
 ],
 "metadata": {
  "kernelspec": {
   "display_name": "Python 3",
   "language": "python",
   "name": "python3"
  },
  "language_info": {
   "codemirror_mode": {
    "name": "ipython",
    "version": 3
   },
   "file_extension": ".py",
   "mimetype": "text/x-python",
   "name": "python",
   "nbconvert_exporter": "python",
   "pygments_lexer": "ipython3",
   "version": "3.6.4rc1"
  }
 },
 "nbformat": 4,
 "nbformat_minor": 2
}
